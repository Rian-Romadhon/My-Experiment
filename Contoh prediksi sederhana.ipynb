{
 "cells": [
  {
   "cell_type": "markdown",
   "metadata": {
    "colab_type": "text",
    "id": "1ej280lPJ5oZ"
   },
   "source": [
    "# Contoh Penerapan Machine Learning\n",
    "\n",
    "Sekarang kita akan mencoba untuk memprediksi spesies bunga iris menggunakan dataset yang telah disediakan oleh library scikit learn. Bunga iris memiliki 3 spesies yaitu iris setosa, versicolor dan virginica yang dibedakan berdasarkan ukuran sepal dan petal. Berikut merupakan bentuk dari ketiga spesies bunga iris:\n",
    "\n",
    "![alt text](https://miro.medium.com/max/700/0*fTQ9JbFu3zg_a5HD.png)\n",
    "\n",
    "Dataset bunga iris pada scikit learn (sklearn) akan saya ubah menjadi dataframe/tabel terlebih dahulu supaya mudah dipahami. Untuk mengubahnya, saya menggunakan library pandas. Kita import library pandas dan library sklearn untuk mengambil dan mengolah dataset."
   ]
  },
  {
   "cell_type": "code",
   "execution_count": 51,
   "metadata": {
    "colab": {},
    "colab_type": "code",
    "id": "StNqGRgLDjzz"
   },
   "outputs": [],
   "source": [
    "import pandas as pd\n",
    "from sklearn.datasets import load_iris\n",
    "iris = load_iris() # memasukan dataset iris ke dalam variabel iris\n",
    "\n",
    "df = pd.DataFrame(iris.data, columns=iris.feature_names) # membuat dataframe\n",
    "df['target'] = iris.target # kita tambahkan kolom target "
   ]
  },
  {
   "cell_type": "markdown",
   "metadata": {
    "colab_type": "text",
    "id": "5vhALwVIL3WC"
   },
   "source": [
    "Selanjutnya kita akan menampilkan 5 data teratas untuk melihat data secara garis besar menggunakan method .head(). Kita juga dapat mengecek data tersebut apakah terdapat missing value/null menggunakan method .isnull() dan sum()"
   ]
  },
  {
   "cell_type": "code",
   "execution_count": 52,
   "metadata": {
    "colab": {
     "base_uri": "https://localhost:8080/",
     "height": 206
    },
    "colab_type": "code",
    "id": "z_FiggwMqRwq",
    "outputId": "dc10c15f-2b1c-47d8-8efe-bcaac79e6d2b"
   },
   "outputs": [
    {
     "data": {
      "text/html": [
       "<div>\n",
       "<style scoped>\n",
       "    .dataframe tbody tr th:only-of-type {\n",
       "        vertical-align: middle;\n",
       "    }\n",
       "\n",
       "    .dataframe tbody tr th {\n",
       "        vertical-align: top;\n",
       "    }\n",
       "\n",
       "    .dataframe thead th {\n",
       "        text-align: right;\n",
       "    }\n",
       "</style>\n",
       "<table border=\"1\" class=\"dataframe\">\n",
       "  <thead>\n",
       "    <tr style=\"text-align: right;\">\n",
       "      <th></th>\n",
       "      <th>sepal length (cm)</th>\n",
       "      <th>sepal width (cm)</th>\n",
       "      <th>petal length (cm)</th>\n",
       "      <th>petal width (cm)</th>\n",
       "      <th>target</th>\n",
       "    </tr>\n",
       "  </thead>\n",
       "  <tbody>\n",
       "    <tr>\n",
       "      <th>0</th>\n",
       "      <td>5.1</td>\n",
       "      <td>3.5</td>\n",
       "      <td>1.4</td>\n",
       "      <td>0.2</td>\n",
       "      <td>0</td>\n",
       "    </tr>\n",
       "    <tr>\n",
       "      <th>1</th>\n",
       "      <td>4.9</td>\n",
       "      <td>3.0</td>\n",
       "      <td>1.4</td>\n",
       "      <td>0.2</td>\n",
       "      <td>0</td>\n",
       "    </tr>\n",
       "    <tr>\n",
       "      <th>2</th>\n",
       "      <td>4.7</td>\n",
       "      <td>3.2</td>\n",
       "      <td>1.3</td>\n",
       "      <td>0.2</td>\n",
       "      <td>0</td>\n",
       "    </tr>\n",
       "    <tr>\n",
       "      <th>3</th>\n",
       "      <td>4.6</td>\n",
       "      <td>3.1</td>\n",
       "      <td>1.5</td>\n",
       "      <td>0.2</td>\n",
       "      <td>0</td>\n",
       "    </tr>\n",
       "    <tr>\n",
       "      <th>4</th>\n",
       "      <td>5.0</td>\n",
       "      <td>3.6</td>\n",
       "      <td>1.4</td>\n",
       "      <td>0.2</td>\n",
       "      <td>0</td>\n",
       "    </tr>\n",
       "  </tbody>\n",
       "</table>\n",
       "</div>"
      ],
      "text/plain": [
       "   sepal length (cm)  sepal width (cm)  ...  petal width (cm)  target\n",
       "0                5.1               3.5  ...               0.2       0\n",
       "1                4.9               3.0  ...               0.2       0\n",
       "2                4.7               3.2  ...               0.2       0\n",
       "3                4.6               3.1  ...               0.2       0\n",
       "4                5.0               3.6  ...               0.2       0\n",
       "\n",
       "[5 rows x 5 columns]"
      ]
     },
     "execution_count": 52,
     "metadata": {
      "tags": []
     },
     "output_type": "execute_result"
    }
   ],
   "source": [
    "df.head()"
   ]
  },
  {
   "cell_type": "code",
   "execution_count": 38,
   "metadata": {
    "colab": {
     "base_uri": "https://localhost:8080/",
     "height": 127
    },
    "colab_type": "code",
    "id": "XZPf3vYfMXQD",
    "outputId": "b60936f6-e995-42a4-9772-d9da4daca141"
   },
   "outputs": [
    {
     "data": {
      "text/plain": [
       "sepal length (cm)    0\n",
       "sepal width (cm)     0\n",
       "petal length (cm)    0\n",
       "petal width (cm)     0\n",
       "target               0\n",
       "dtype: int64"
      ]
     },
     "execution_count": 38,
     "metadata": {
      "tags": []
     },
     "output_type": "execute_result"
    }
   ],
   "source": [
    "df.isnull().sum()"
   ]
  },
  {
   "cell_type": "markdown",
   "metadata": {
    "colab_type": "text",
    "id": "ZVpLpCZjMcIf"
   },
   "source": [
    "Dari informasi di atas terlihat bahwa dataset tidak memiliki nilai null sehingga bersih. Machine learning yang akan digunakan termasuk ke dalam supervised learning karena dataset iris memiliki label/target. Pada dataset di atas, label memiliki nilai 0, 1, 2. Untuk melihat nama label dapat dilakukan dengan melihat data iris pada sklearn. Kita juga dapat melihat jumlah label/target pada dataset tersebut. Terlihat bahwa jumlah label seimbang antara ketiga jenis. "
   ]
  },
  {
   "cell_type": "code",
   "execution_count": 39,
   "metadata": {
    "colab": {
     "base_uri": "https://localhost:8080/",
     "height": 72
    },
    "colab_type": "code",
    "id": "wKjwsnyxE8gm",
    "outputId": "a4764c96-89d0-409c-fbef-6481027eef62"
   },
   "outputs": [
    {
     "name": "stdout",
     "output_type": "stream",
     "text": [
      "Nomor 0 adalah spesies jenis iris setosa\n",
      "Nomor 1 adalah spesies jenis iris versicolor\n",
      "Nomor 2 adalah spesies jenis iris virginica\n"
     ]
    }
   ],
   "source": [
    "#keterangan target, terdapat pada data iris sklearn\n",
    "for index, name in enumerate(iris.target_names):\n",
    "  print(f'Nomor {index} adalah spesies jenis iris {name}')"
   ]
  },
  {
   "cell_type": "code",
   "execution_count": 40,
   "metadata": {
    "colab": {
     "base_uri": "https://localhost:8080/",
     "height": 90
    },
    "colab_type": "code",
    "id": "qkH8pj2YqTN0",
    "outputId": "b99bd523-2140-454e-8c01-6c06017ce5f7"
   },
   "outputs": [
    {
     "data": {
      "text/plain": [
       "2    50\n",
       "1    50\n",
       "0    50\n",
       "Name: target, dtype: int64"
      ]
     },
     "execution_count": 40,
     "metadata": {
      "tags": []
     },
     "output_type": "execute_result"
    }
   ],
   "source": [
    "df['target'].value_counts()"
   ]
  },
  {
   "cell_type": "markdown",
   "metadata": {
    "colab_type": "text",
    "id": "B8zEjw-4OfE4"
   },
   "source": [
    "Selanjutnya kita akan mencoba untuk membagi data dari dataframe yang telah dibuat menjadi data train dan data test. Data train akan digunakan oleh komputer untuk dipelajari sedangkan data test akan digunakan untuk proses prediksi. Perbandingan antara data train dan data test yang dipakai adalah 0.2 untuk data test (umumnya 0.2 - 0.3 untuk data test) dan pemilihan dilakukan secara acak dengan tingkat random 21. Fungsi dari stratify adalah untuk meratakan jumlah pembagian data sehingga baik data train maupun data test memiliki jumlah jenis yang sama."
   ]
  },
  {
   "cell_type": "code",
   "execution_count": 18,
   "metadata": {
    "colab": {},
    "colab_type": "code",
    "id": "Y-2QEI20qUwX"
   },
   "outputs": [],
   "source": [
    "from sklearn.model_selection import train_test_split\n",
    "\n",
    "# kita pisahkan terlebih dahulu data feature dengan data target\n",
    "x = df.drop('target', axis=1)\n",
    "y = df['target']\n",
    "\n",
    "# saatnya membagi data train dengan data test\n",
    "x_train, x_test, y_train, y_test = train_test_split(x, y, test_size=0.2, stratify=y, random_state=21)"
   ]
  },
  {
   "cell_type": "code",
   "execution_count": 50,
   "metadata": {
    "colab": {
     "base_uri": "https://localhost:8080/",
     "height": 201
    },
    "colab_type": "code",
    "id": "1QfgHCqtPzno",
    "outputId": "861bc7e1-000b-43a7-ed41-2483060ce56b"
   },
   "outputs": [
    {
     "name": "stdout",
     "output_type": "stream",
     "text": [
      "Proporsi jenis pada data train:\n",
      "2    40\n",
      "1    40\n",
      "0    40\n",
      "Name: target, dtype: int64\n",
      "Proporsi jenis pada data test:\n",
      "2    10\n",
      "1    10\n",
      "0    10\n",
      "Name: target, dtype: int64\n"
     ]
    }
   ],
   "source": [
    "print('Proporsi jenis pada data train:')\n",
    "print(y_train.value_counts())\n",
    "\n",
    "print('Proporsi jenis pada data test:')\n",
    "print(y_test.value_counts())\n",
    "\n",
    "# Terlihat bahwa perbandingan ketiga jenis sama untuk data train maupun data test"
   ]
  },
  {
   "cell_type": "markdown",
   "metadata": {
    "colab_type": "text",
    "id": "-HQHTA86RWRS"
   },
   "source": [
    "Selanjutnya kita akan melakukan eksperimen untuk menemukan hyperparameter yang sesuai dengan model/algoritma sehingga menghasilkan akurasi tinggi. Model/algoritma yang akan saya gunakan adalah DecisionTreeClassifier karena machine learning yang dibuat termasuk ke dalam klasifikasi. Untuk memilih hyperparameter yang sesuai, saya menggunakan GridSearchCV. Kemudian mengisinya dengan estimator/model dan hyperparameter pada DecisionTree. Untuk mengetahui hyperparameter apa saja yang terdapat pada DecisionTreeClassifier dapat dilihat pada link berikut:\n",
    "\n",
    "https://scikit-learn.org/stable/modules/generated/sklearn.tree.DecisionTreeClassifier.html\n",
    "\n",
    "Saya tidak menggunakan semua hyperparameter yang ada, dan untuk nilai hyperparameter saya menggunakan sembarang angka, karena jika terlalu banyak akan memakan waktu yang lama."
   ]
  },
  {
   "cell_type": "code",
   "execution_count": 54,
   "metadata": {
    "colab": {
     "base_uri": "https://localhost:8080/",
     "height": 403
    },
    "colab_type": "code",
    "id": "egX_I4nzqXtR",
    "outputId": "a5963b9c-add5-4a29-c1c8-bbea2bb65e7a"
   },
   "outputs": [
    {
     "data": {
      "text/plain": [
       "GridSearchCV(cv=None, error_score=nan,\n",
       "             estimator=DecisionTreeClassifier(ccp_alpha=0.0, class_weight=None,\n",
       "                                              criterion='gini', max_depth=None,\n",
       "                                              max_features=None,\n",
       "                                              max_leaf_nodes=None,\n",
       "                                              min_impurity_decrease=0.0,\n",
       "                                              min_impurity_split=None,\n",
       "                                              min_samples_leaf=1,\n",
       "                                              min_samples_split=2,\n",
       "                                              min_weight_fraction_leaf=0.0,\n",
       "                                              presort='deprecated',\n",
       "                                              random_state=None,\n",
       "                                              splitter='best'),\n",
       "             iid='deprecated', n_jobs=None,\n",
       "             param_grid={'max_depth': [2, 3, 5, 7, 9, 11, 13],\n",
       "                         'min_samples_leaf': [2, 3, 5, 7, 9, 11, 13],\n",
       "                         'min_samples_split': [2, 3, 5, 7, 9, 11, 13],\n",
       "                         'random_state': [15, 17, 19, 21],\n",
       "                         'splitter': ['best', 'random']},\n",
       "             pre_dispatch='2*n_jobs', refit=True, return_train_score=False,\n",
       "             scoring=None, verbose=0)"
      ]
     },
     "execution_count": 54,
     "metadata": {
      "tags": []
     },
     "output_type": "execute_result"
    }
   ],
   "source": [
    "from sklearn.tree import DecisionTreeClassifier\n",
    "from sklearn.model_selection import GridSearchCV\n",
    "\n",
    "param = {'max_depth':[2,3,5,7,9,11,13],\n",
    "         'splitter':['best', 'random'],\n",
    "         'min_samples_split': [2,3,5,7,9,11,13],\n",
    "         'min_samples_leaf': [2,3,5,7,9,11,13],\n",
    "         'random_state':[15,17,19,21]\n",
    "         }\n",
    "tree = DecisionTreeClassifier()\n",
    "\n",
    "gscv = GridSearchCV(estimator=tree,\n",
    "                    param_grid=param)\n",
    "gscv.fit(x_train, y_train)"
   ]
  },
  {
   "cell_type": "markdown",
   "metadata": {
    "colab_type": "text",
    "id": "P3iGG6HiTJq-"
   },
   "source": [
    "Untuk melihat hyperparameter yang paling baik dapat dilakukan dengan menggunakan best_params_. Di bawah ini terlihat kumpulan hyperparameter yang menghasilkan nilai terbesar."
   ]
  },
  {
   "cell_type": "code",
   "execution_count": 20,
   "metadata": {
    "colab": {
     "base_uri": "https://localhost:8080/",
     "height": 109
    },
    "colab_type": "code",
    "id": "ypJZRnloqaY3",
    "outputId": "98dff9b9-e45f-47f0-db72-66c7a0bdfbc0"
   },
   "outputs": [
    {
     "data": {
      "text/plain": [
       "{'max_depth': 5,\n",
       " 'min_samples_leaf': 2,\n",
       " 'min_samples_split': 2,\n",
       " 'random_state': 15,\n",
       " 'splitter': 'random'}"
      ]
     },
     "execution_count": 20,
     "metadata": {
      "tags": []
     },
     "output_type": "execute_result"
    }
   ],
   "source": [
    "gscv.best_params_"
   ]
  },
  {
   "cell_type": "markdown",
   "metadata": {
    "colab_type": "text",
    "id": "EnzCiNAIToVG"
   },
   "source": [
    "Untuk melihat berapa nilai yang dihasilkan oleh kombinasi hyperparameter di atas, kita dapat menggunakan best_score_"
   ]
  },
  {
   "cell_type": "code",
   "execution_count": 21,
   "metadata": {
    "colab": {
     "base_uri": "https://localhost:8080/",
     "height": 35
    },
    "colab_type": "code",
    "id": "76fPFOFBqwx4",
    "outputId": "0c7d4c26-1561-4c64-dc3d-f555490524a3"
   },
   "outputs": [
    {
     "data": {
      "text/plain": [
       "0.9666666666666668"
      ]
     },
     "execution_count": 21,
     "metadata": {
      "tags": []
     },
     "output_type": "execute_result"
    }
   ],
   "source": [
    "gscv.best_score_"
   ]
  },
  {
   "cell_type": "markdown",
   "metadata": {
    "colab_type": "text",
    "id": "MTZUmoklT0om"
   },
   "source": [
    "Setelah kita mengetahui hyperparameter yang sesuai, saat nya kita membuat model machine learning kemudian melatihnya dengan data train menggunakan method fit()"
   ]
  },
  {
   "cell_type": "code",
   "execution_count": 22,
   "metadata": {
    "colab": {
     "base_uri": "https://localhost:8080/",
     "height": 127
    },
    "colab_type": "code",
    "id": "eop1QZzVqzMy",
    "outputId": "727841ca-308d-412e-a851-2ae86eccf552"
   },
   "outputs": [
    {
     "data": {
      "text/plain": [
       "DecisionTreeClassifier(ccp_alpha=0.0, class_weight=None, criterion='gini',\n",
       "                       max_depth=5, max_features=None, max_leaf_nodes=None,\n",
       "                       min_impurity_decrease=0.0, min_impurity_split=None,\n",
       "                       min_samples_leaf=2, min_samples_split=2,\n",
       "                       min_weight_fraction_leaf=0.0, presort='deprecated',\n",
       "                       random_state=15, splitter='random')"
      ]
     },
     "execution_count": 22,
     "metadata": {
      "tags": []
     },
     "output_type": "execute_result"
    }
   ],
   "source": [
    "from sklearn.tree import DecisionTreeClassifier\n",
    "tree = DecisionTreeClassifier(max_depth=5,\n",
    "                              min_samples_split=2,\n",
    "                              splitter='random',\n",
    "                              min_samples_leaf=2,\n",
    "                              random_state=15\n",
    "                              )\n",
    "\n",
    "tree.fit(x_train, y_train)"
   ]
  },
  {
   "cell_type": "markdown",
   "metadata": {
    "colab_type": "text",
    "id": "C_99XpIcUFUv"
   },
   "source": [
    "Setelah dilatih kita dapat menggunakan data test (x_test) sebagai prediksi, kemudian kita bandingkan dengan y_test untuk menilai tingkat akurasi machine learning yang dibuat. "
   ]
  },
  {
   "cell_type": "code",
   "execution_count": 23,
   "metadata": {
    "colab": {},
    "colab_type": "code",
    "id": "Pri559AGsCGv"
   },
   "outputs": [],
   "source": [
    "y_predict = tree.predict(x_test)"
   ]
  },
  {
   "cell_type": "code",
   "execution_count": 24,
   "metadata": {
    "colab": {
     "base_uri": "https://localhost:8080/",
     "height": 35
    },
    "colab_type": "code",
    "id": "7SB0BwHVzCTs",
    "outputId": "1a0d6b67-4a0e-467f-caf0-5157e3ddbbf7"
   },
   "outputs": [
    {
     "data": {
      "text/plain": [
       "0.9666666666666667"
      ]
     },
     "execution_count": 24,
     "metadata": {
      "tags": []
     },
     "output_type": "execute_result"
    }
   ],
   "source": [
    "from sklearn.metrics import accuracy_score\n",
    "accuracy = accuracy_score(y_test, y_predict)\n",
    "accuracy"
   ]
  },
  {
   "cell_type": "markdown",
   "metadata": {
    "colab_type": "text",
    "id": "r2SQSgTDVRin"
   },
   "source": [
    "Akurasi 0.96 termasuk ke dalam kategori yang sangat baik (di atas 90). Misalkan akurasi yang dihasilkan jelek, kita dapat mengatasinya dengan memilih model/algoritma yang lain dan mencari hyperparameter yang sesuai. Selanjutnya kita akan mencoba membuat program sederhana supaya terlihat lebih menarik."
   ]
  },
  {
   "cell_type": "code",
   "execution_count": 36,
   "metadata": {
    "colab": {
     "base_uri": "https://localhost:8080/",
     "height": 201
    },
    "colab_type": "code",
    "id": "ksU4E8L3F-Gi",
    "outputId": "f701b65e-3548-4192-ebaa-1fb83c6b9eb9"
   },
   "outputs": [
    {
     "name": "stdout",
     "output_type": "stream",
     "text": [
      "Deteksi Spesies Iris\n",
      "\n",
      "Masukan panjang sepal: 6\n",
      "Masukan lebar sepal: 4.6\n",
      "Masukan panjang petal: 1.4\n",
      "Masukan lebar petal: 4.2\n",
      "\n",
      "\n",
      "Hasil:\n",
      "Bunga tersebut termasuk ke dalam spesies iris versicolor\n"
     ]
    }
   ],
   "source": [
    "# Saatnya kita membuat program sederhana supaya lebih keren\n",
    "import numpy as np\n",
    "\n",
    "print('Deteksi Spesies Iris\\n')\n",
    "sepal_length = float(input('Masukan panjang sepal: '))\n",
    "sepal_width = float(input('Masukan lebar sepal: '))\n",
    "petal_length = float(input('Masukan panjang petal: '))\n",
    "petal_width = float(input('Masukan lebar petal: '))\n",
    "\n",
    "# model hanya menerima input data 2 dimensi, oleh karena itu kita ubah bentuk data\n",
    "# menjadi dua dimensi\n",
    "data = np.array([[sepal_length, sepal_width, petal_length, petal_width]])\n",
    "\n",
    "\n",
    "predict_data = tree.predict(data)\n",
    "\n",
    "print('\\n')\n",
    "print('Hasil:')\n",
    "if predict_data == 0:\n",
    "  print('Bunga tersebut termasuk ke dalam spesies iris setosa')\n",
    "\n",
    "elif predict_data == 1:  \n",
    "  print('Bunga tersebut termasuk ke dalam spesies iris versicolor')\n",
    "\n",
    "elif predict_data == 2:  \n",
    "  print('Bunga tersebut termasuk ke dalam spesies iris virginica')\n",
    "\n",
    "\n",
    "# Kita coba masukan data berikut 6.0, 4.6, 1.4, 4.2 "
   ]
  }
 ],
 "metadata": {
  "colab": {
   "collapsed_sections": [],
   "name": "upload linkedin 1.ipynb",
   "provenance": []
  },
  "kernelspec": {
   "display_name": "Python 3",
   "language": "python",
   "name": "python3"
  },
  "language_info": {
   "codemirror_mode": {
    "name": "ipython",
    "version": 3
   },
   "file_extension": ".py",
   "mimetype": "text/x-python",
   "name": "python",
   "nbconvert_exporter": "python",
   "pygments_lexer": "ipython3",
   "version": "3.8.1"
  }
 },
 "nbformat": 4,
 "nbformat_minor": 1
}
